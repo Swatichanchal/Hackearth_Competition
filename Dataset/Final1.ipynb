{
 "cells": [
  {
   "cell_type": "code",
   "execution_count": 112,
   "metadata": {},
   "outputs": [],
   "source": [
    "import pandas as pd\n",
    "import numpy as np\n",
    "import matplotlib.pyplot as plt\n",
    "%matplotlib inline"
   ]
  },
  {
   "cell_type": "code",
   "execution_count": 113,
   "metadata": {},
   "outputs": [],
   "source": [
    "x_train =pd.read_csv(\"Train.csv\" )\n",
    "x_test =pd.read_csv(\"Test.csv\" )"
   ]
  },
  {
   "cell_type": "code",
   "execution_count": 114,
   "metadata": {},
   "outputs": [],
   "source": [
    "X_train =x_train.iloc[:,2:-1]\n",
    "y_train = x_train.iloc[:,-1]\n",
    "X_test = x_test.iloc[:,2:]"
   ]
  },
  {
   "cell_type": "code",
   "execution_count": 115,
   "metadata": {},
   "outputs": [
    {
     "name": "stdout",
     "output_type": "stream",
     "text": [
      "(23856, 15)\n",
      "(15903, 15)\n",
      "(23856,)\n"
     ]
    }
   ],
   "source": [
    "print(X_train.shape)\n",
    "print(X_test.shape)\n",
    "print(y_train.shape)"
   ]
  },
  {
   "cell_type": "code",
   "execution_count": 116,
   "metadata": {},
   "outputs": [
    {
     "name": "stdout",
     "output_type": "stream",
     "text": [
      "They are 1 columns with missing values : \n",
      "[('X_12', 182)] \n",
      "They are 1 columns with missing values : \n",
      "[('X_12', 127)] \n"
     ]
    }
   ],
   "source": [
    "missing =X_train.isna().sum(axis=0).sort_values(ascending=False)\n",
    "missing_value_columns = missing[missing>0]\n",
    "print('They are %s columns with missing values : \\n%s ' %(missing_value_columns.count() , [(index , value) for (index , value) in missing_value_columns.iteritems()]))\n",
    "\n",
    "missing =X_test.isna().sum(axis=0).sort_values(ascending=False)\n",
    "missing_value_columns = missing[missing>0]\n",
    "print('They are %s columns with missing values : \\n%s ' %(missing_value_columns.count() , [(index , value) for (index , value) in missing_value_columns.iteritems()]))\n"
   ]
  },
  {
   "cell_type": "code",
   "execution_count": 117,
   "metadata": {},
   "outputs": [],
   "source": [
    "def impute_value(X):\n",
    "    dataset =X\n",
    "    dataset['X_12'].fillna(dataset['X_12'].median() , inplace = True)\n",
    "    return dataset\n",
    "\n",
    "X_train = impute_value(X_train)\n",
    "X_test = impute_value(X_test)"
   ]
  },
  {
   "cell_type": "code",
   "execution_count": 118,
   "metadata": {},
   "outputs": [
    {
     "name": "stdout",
     "output_type": "stream",
     "text": [
      "They are 0 columns with missing values : \n",
      "[] \n",
      "They are 0 columns with missing values : \n",
      "[] \n"
     ]
    }
   ],
   "source": [
    "missing =X_train.isna().sum(axis=0).sort_values(ascending=False)\n",
    "missing_value_columns = missing[missing>0]\n",
    "print('They are %s columns with missing values : \\n%s ' %(missing_value_columns.count() , [(index , value) for (index , value) in missing_value_columns.iteritems()]))\n",
    "\n",
    "missing =X_test.isna().sum(axis=0).sort_values(ascending=False)\n",
    "missing_value_columns = missing[missing>0]\n",
    "print('They are %s columns with missing values : \\n%s ' %(missing_value_columns.count() , [(index , value) for (index , value) in missing_value_columns.iteritems()]))\n"
   ]
  },
  {
   "cell_type": "code",
   "execution_count": 119,
   "metadata": {},
   "outputs": [],
   "source": [
    "# X_train = X_train.drop(['X_12'], axis=1)\n",
    "# X_test = X_test.drop(['X_12'], axis=1)"
   ]
  },
  {
   "cell_type": "code",
   "execution_count": 120,
   "metadata": {},
   "outputs": [
    {
     "name": "stdout",
     "output_type": "stream",
     "text": [
      "Here are the 0 object variables : \n",
      " []\n",
      "Here are the 0 object variables : \n",
      " []\n"
     ]
    }
   ],
   "source": [
    "object = list(X_train.select_dtypes(include=[np.object]))\n",
    "print('Here are the %s object variables : \\n %s' %(len(object) , object))\n",
    "\n",
    "object = list(X_test.select_dtypes(include=[np.object]))\n",
    "print('Here are the %s object variables : \\n %s' %(len(object) , object))"
   ]
  },
  {
   "cell_type": "code",
   "execution_count": 121,
   "metadata": {},
   "outputs": [
    {
     "name": "stdout",
     "output_type": "stream",
     "text": [
      "(23856, 15)\n",
      "(15903, 15)\n",
      "(23856,)\n"
     ]
    }
   ],
   "source": [
    "X_train =X_train.values\n",
    "# print(X_train.dtypes) :: to checkkk if the X_train is converted into numpy array or not [if error occur it is , if not it's not]\n",
    "X_test =X_test.values\n",
    "y_train=y_train.values\n",
    "print(X_train.shape)\n",
    "print(X_test.shape)\n",
    "print(y_train.shape)"
   ]
  },
  {
   "cell_type": "code",
   "execution_count": 122,
   "metadata": {},
   "outputs": [],
   "source": [
    "from sklearn.preprocessing import StandardScaler\n",
    "sc = StandardScaler()\n",
    "\n",
    "X_train = sc.fit_transform(X_train)\n",
    "X_test = sc.transform(X_test)"
   ]
  },
  {
   "cell_type": "code",
   "execution_count": 123,
   "metadata": {},
   "outputs": [],
   "source": [
    "import tensorflow as tf"
   ]
  },
  {
   "cell_type": "code",
   "execution_count": 124,
   "metadata": {},
   "outputs": [],
   "source": [
    "import keras"
   ]
  },
  {
   "cell_type": "code",
   "execution_count": 125,
   "metadata": {},
   "outputs": [],
   "source": [
    "ann = tf.keras.models.Sequential()"
   ]
  },
  {
   "cell_type": "code",
   "execution_count": 126,
   "metadata": {},
   "outputs": [],
   "source": [
    "ann.add(tf.keras.layers.Dense(units=6 ,activation = 'relu'))"
   ]
  },
  {
   "cell_type": "code",
   "execution_count": 127,
   "metadata": {},
   "outputs": [],
   "source": [
    "ann.add(tf.keras.layers.Dense(units=6 ,activation = 'relu'))"
   ]
  },
  {
   "cell_type": "code",
   "execution_count": 128,
   "metadata": {},
   "outputs": [],
   "source": [
    "ann.add(tf.keras.layers.Dense(units=1 ,activation = 'sigmoid'))"
   ]
  },
  {
   "cell_type": "code",
   "execution_count": 129,
   "metadata": {},
   "outputs": [],
   "source": [
    "ann.compile(optimizer = 'adam', loss = 'binary_crossentropy', metrics = ['accuracy'])"
   ]
  },
  {
   "cell_type": "code",
   "execution_count": 131,
   "metadata": {},
   "outputs": [
    {
     "name": "stdout",
     "output_type": "stream",
     "text": [
      "Epoch 1/100\n",
      "23856/23856 [==============================] - 1s 45us/sample - loss: 0.0536 - acc: 0.9807\n",
      "Epoch 2/100\n",
      "23856/23856 [==============================] - 1s 45us/sample - loss: 0.0535 - acc: 0.9810\n",
      "Epoch 3/100\n",
      "23856/23856 [==============================] - 1s 44us/sample - loss: 0.0533 - acc: 0.9805\n",
      "Epoch 4/100\n",
      "23856/23856 [==============================] - 1s 44us/sample - loss: 0.0534 - acc: 0.9801\n",
      "Epoch 5/100\n",
      "23856/23856 [==============================] - 1s 45us/sample - loss: 0.0533 - acc: 0.9811\n",
      "Epoch 6/100\n",
      "23856/23856 [==============================] - 1s 59us/sample - loss: 0.0531 - acc: 0.9803\n",
      "Epoch 7/100\n",
      "23856/23856 [==============================] - 1s 45us/sample - loss: 0.0532 - acc: 0.9812\n",
      "Epoch 8/100\n",
      "23856/23856 [==============================] - 1s 52us/sample - loss: 0.0531 - acc: 0.9807\n",
      "Epoch 9/100\n",
      "23856/23856 [==============================] - 1s 53us/sample - loss: 0.0532 - acc: 0.9808\n",
      "Epoch 10/100\n",
      "23856/23856 [==============================] - 1s 55us/sample - loss: 0.0530 - acc: 0.9806\n",
      "Epoch 11/100\n",
      "23856/23856 [==============================] - 1s 44us/sample - loss: 0.0528 - acc: 0.98120s - loss: 0.0512 - acc\n",
      "Epoch 12/100\n",
      "23856/23856 [==============================] - 1s 58us/sample - loss: 0.0530 - acc: 0.9805\n",
      "Epoch 13/100\n",
      "23856/23856 [==============================] - 2s 65us/sample - loss: 0.0532 - acc: 0.9809\n",
      "Epoch 14/100\n",
      "23856/23856 [==============================] - 2s 64us/sample - loss: 0.0529 - acc: 0.98151s - \n",
      "Epoch 15/100\n",
      "23856/23856 [==============================] - 1s 48us/sample - loss: 0.0530 - acc: 0.9804\n",
      "Epoch 16/100\n",
      "23856/23856 [==============================] - 1s 39us/sample - loss: 0.0530 - acc: 0.9809\n",
      "Epoch 17/100\n",
      "23856/23856 [==============================] - 1s 47us/sample - loss: 0.0526 - acc: 0.9809\n",
      "Epoch 18/100\n",
      "23856/23856 [==============================] - 2s 84us/sample - loss: 0.0529 - acc: 0.98062s - loss: 0. - ETA: 1s - loss: 0.0515 \n",
      "Epoch 19/100\n",
      "23856/23856 [==============================] - 1s 58us/sample - loss: 0.0527 - acc: 0.9810\n",
      "Epoch 20/100\n",
      "23856/23856 [==============================] - 2s 67us/sample - loss: 0.0527 - acc: 0.9814\n",
      "Epoch 21/100\n",
      "23856/23856 [==============================] - 1s 45us/sample - loss: 0.0527 - acc: 0.9805\n",
      "Epoch 22/100\n",
      "23856/23856 [==============================] - 1s 50us/sample - loss: 0.0526 - acc: 0.9808\n",
      "Epoch 23/100\n",
      "23856/23856 [==============================] - 1s 48us/sample - loss: 0.0524 - acc: 0.9813\n",
      "Epoch 24/100\n",
      "23856/23856 [==============================] - 1s 50us/sample - loss: 0.0527 - acc: 0.9807\n",
      "Epoch 25/100\n",
      "23856/23856 [==============================] - 1s 60us/sample - loss: 0.0524 - acc: 0.9811\n",
      "Epoch 26/100\n",
      "23856/23856 [==============================] - 1s 59us/sample - loss: 0.0523 - acc: 0.9810\n",
      "Epoch 27/100\n",
      "23856/23856 [==============================] - 1s 61us/sample - loss: 0.0522 - acc: 0.98091s - loss: 0.05\n",
      "Epoch 28/100\n",
      "23856/23856 [==============================] - 2s 70us/sample - loss: 0.0524 - acc: 0.9807\n",
      "Epoch 29/100\n",
      "23856/23856 [==============================] - 1s 44us/sample - loss: 0.0521 - acc: 0.9810\n",
      "Epoch 30/100\n",
      "23856/23856 [==============================] - 1s 50us/sample - loss: 0.0520 - acc: 0.9810\n",
      "Epoch 31/100\n",
      "23856/23856 [==============================] - 2s 66us/sample - loss: 0.0522 - acc: 0.9807\n",
      "Epoch 32/100\n",
      "23856/23856 [==============================] - 1s 54us/sample - loss: 0.0519 - acc: 0.9810\n",
      "Epoch 33/100\n",
      "23856/23856 [==============================] - 1s 53us/sample - loss: 0.0518 - acc: 0.9807\n",
      "Epoch 34/100\n",
      "23856/23856 [==============================] - 1s 50us/sample - loss: 0.0516 - acc: 0.9814\n",
      "Epoch 35/100\n",
      "23856/23856 [==============================] - 1s 46us/sample - loss: 0.0515 - acc: 0.9816\n",
      "Epoch 36/100\n",
      "23856/23856 [==============================] - 1s 46us/sample - loss: 0.0516 - acc: 0.9810\n",
      "Epoch 37/100\n",
      "23856/23856 [==============================] - 1s 55us/sample - loss: 0.0512 - acc: 0.9812\n",
      "Epoch 38/100\n",
      "23856/23856 [==============================] - 1s 52us/sample - loss: 0.0512 - acc: 0.9812\n",
      "Epoch 39/100\n",
      "23856/23856 [==============================] - 1s 47us/sample - loss: 0.0513 - acc: 0.9816\n",
      "Epoch 40/100\n",
      "23856/23856 [==============================] - 1s 57us/sample - loss: 0.0508 - acc: 0.9815\n",
      "Epoch 41/100\n",
      "23856/23856 [==============================] - 1s 53us/sample - loss: 0.0511 - acc: 0.9816\n",
      "Epoch 42/100\n",
      "23856/23856 [==============================] - 1s 56us/sample - loss: 0.0507 - acc: 0.9816\n",
      "Epoch 43/100\n",
      "23856/23856 [==============================] - 1s 47us/sample - loss: 0.0507 - acc: 0.9814\n",
      "Epoch 44/100\n",
      "23856/23856 [==============================] - 1s 49us/sample - loss: 0.0504 - acc: 0.9823\n",
      "Epoch 45/100\n",
      "23856/23856 [==============================] - 1s 47us/sample - loss: 0.0503 - acc: 0.9821\n",
      "Epoch 46/100\n",
      "23856/23856 [==============================] - 1s 47us/sample - loss: 0.0501 - acc: 0.9816\n",
      "Epoch 47/100\n",
      "23856/23856 [==============================] - 1s 54us/sample - loss: 0.0500 - acc: 0.9815\n",
      "Epoch 48/100\n",
      "23856/23856 [==============================] - 1s 55us/sample - loss: 0.0499 - acc: 0.9817\n",
      "Epoch 49/100\n",
      "23856/23856 [==============================] - 1s 42us/sample - loss: 0.0498 - acc: 0.9816\n",
      "Epoch 50/100\n",
      "23856/23856 [==============================] - 1s 42us/sample - loss: 0.0490 - acc: 0.9817\n",
      "Epoch 51/100\n",
      "23856/23856 [==============================] - 1s 42us/sample - loss: 0.0488 - acc: 0.9818\n",
      "Epoch 52/100\n",
      "23856/23856 [==============================] - 1s 42us/sample - loss: 0.0486 - acc: 0.9817\n",
      "Epoch 53/100\n",
      "23856/23856 [==============================] - 1s 48us/sample - loss: 0.0482 - acc: 0.9819\n",
      "Epoch 54/100\n",
      "23856/23856 [==============================] - 1s 47us/sample - loss: 0.0482 - acc: 0.9821\n",
      "Epoch 55/100\n",
      "23856/23856 [==============================] - 1s 43us/sample - loss: 0.0479 - acc: 0.9824\n",
      "Epoch 56/100\n",
      "23856/23856 [==============================] - 1s 44us/sample - loss: 0.0477 - acc: 0.9821\n",
      "Epoch 57/100\n",
      "23856/23856 [==============================] - 1s 48us/sample - loss: 0.0474 - acc: 0.9820\n",
      "Epoch 58/100\n",
      "23856/23856 [==============================] - 1s 41us/sample - loss: 0.0471 - acc: 0.9828\n",
      "Epoch 59/100\n",
      "23856/23856 [==============================] - 1s 42us/sample - loss: 0.0467 - acc: 0.9829\n",
      "Epoch 60/100\n",
      "23856/23856 [==============================] - 1s 43us/sample - loss: 0.0469 - acc: 0.9824\n",
      "Epoch 61/100\n",
      "23856/23856 [==============================] - 1s 41us/sample - loss: 0.0467 - acc: 0.9824\n",
      "Epoch 62/100\n",
      "23856/23856 [==============================] - 1s 44us/sample - loss: 0.0466 - acc: 0.9828\n",
      "Epoch 63/100\n",
      "23856/23856 [==============================] - 1s 50us/sample - loss: 0.0462 - acc: 0.9824\n",
      "Epoch 64/100\n",
      "23856/23856 [==============================] - 1s 55us/sample - loss: 0.0463 - acc: 0.9824\n",
      "Epoch 65/100\n",
      "23856/23856 [==============================] - 1s 58us/sample - loss: 0.0460 - acc: 0.9829\n",
      "Epoch 66/100\n",
      "23856/23856 [==============================] - 1s 49us/sample - loss: 0.0465 - acc: 0.9829\n",
      "Epoch 67/100\n",
      "23856/23856 [==============================] - 1s 51us/sample - loss: 0.0461 - acc: 0.98280s - loss: 0.0448 - acc: 0.\n",
      "Epoch 68/100\n",
      "23856/23856 [==============================] - 1s 40us/sample - loss: 0.0462 - acc: 0.9827\n",
      "Epoch 69/100\n",
      "23856/23856 [==============================] - 1s 40us/sample - loss: 0.0458 - acc: 0.98290s - loss: 0.04\n",
      "Epoch 70/100\n",
      "23856/23856 [==============================] - 1s 40us/sample - loss: 0.0459 - acc: 0.9829\n",
      "Epoch 71/100\n",
      "23856/23856 [==============================] - 1s 40us/sample - loss: 0.0458 - acc: 0.9837\n",
      "Epoch 72/100\n",
      "23856/23856 [==============================] - 1s 40us/sample - loss: 0.0458 - acc: 0.9830\n",
      "Epoch 73/100\n",
      "23856/23856 [==============================] - 1s 40us/sample - loss: 0.0458 - acc: 0.9831\n",
      "Epoch 74/100\n",
      "23856/23856 [==============================] - ETA: 0s - loss: 0.0458 - acc: 0.982 - 1s 40us/sample - loss: 0.0457 - acc: 0.9829\n",
      "Epoch 75/100\n",
      "23856/23856 [==============================] - 1s 41us/sample - loss: 0.0460 - acc: 0.9828\n",
      "Epoch 76/100\n",
      "23856/23856 [==============================] - 1s 53us/sample - loss: 0.0457 - acc: 0.9829\n",
      "Epoch 77/100\n",
      "23856/23856 [==============================] - 1s 48us/sample - loss: 0.0453 - acc: 0.9830\n",
      "Epoch 78/100\n"
     ]
    },
    {
     "name": "stdout",
     "output_type": "stream",
     "text": [
      "23856/23856 [==============================] - 1s 47us/sample - loss: 0.0455 - acc: 0.9830\n",
      "Epoch 79/100\n",
      "23856/23856 [==============================] - 1s 51us/sample - loss: 0.0456 - acc: 0.9829\n",
      "Epoch 80/100\n",
      "23856/23856 [==============================] - 1s 41us/sample - loss: 0.0455 - acc: 0.9829\n",
      "Epoch 81/100\n",
      "23856/23856 [==============================] - 1s 51us/sample - loss: 0.0454 - acc: 0.9834\n",
      "Epoch 82/100\n",
      "23856/23856 [==============================] - ETA: 0s - loss: 0.0456 - acc: 0.983 - 1s 50us/sample - loss: 0.0455 - acc: 0.9835\n",
      "Epoch 83/100\n",
      "23856/23856 [==============================] - 1s 49us/sample - loss: 0.0454 - acc: 0.9827\n",
      "Epoch 84/100\n",
      "23856/23856 [==============================] - 2s 64us/sample - loss: 0.0452 - acc: 0.9835\n",
      "Epoch 85/100\n",
      "23856/23856 [==============================] - 1s 61us/sample - loss: 0.0451 - acc: 0.9826\n",
      "Epoch 86/100\n",
      "23856/23856 [==============================] - 1s 52us/sample - loss: 0.0451 - acc: 0.9830\n",
      "Epoch 87/100\n",
      "23856/23856 [==============================] - 2s 72us/sample - loss: 0.0452 - acc: 0.9831\n",
      "Epoch 88/100\n",
      "23856/23856 [==============================] - 1s 57us/sample - loss: 0.0451 - acc: 0.9831\n",
      "Epoch 89/100\n",
      "23856/23856 [==============================] - 1s 47us/sample - loss: 0.0450 - acc: 0.9832\n",
      "Epoch 90/100\n",
      "23856/23856 [==============================] - 1s 51us/sample - loss: 0.0451 - acc: 0.98291s - los\n",
      "Epoch 91/100\n",
      "23856/23856 [==============================] - 1s 52us/sample - loss: 0.0453 - acc: 0.9830\n",
      "Epoch 92/100\n",
      "23856/23856 [==============================] - 1s 46us/sample - loss: 0.0451 - acc: 0.9829\n",
      "Epoch 93/100\n",
      "23856/23856 [==============================] - 1s 50us/sample - loss: 0.0448 - acc: 0.9828\n",
      "Epoch 94/100\n",
      "23856/23856 [==============================] - 1s 53us/sample - loss: 0.0446 - acc: 0.9831\n",
      "Epoch 95/100\n",
      "23856/23856 [==============================] - 1s 54us/sample - loss: 0.0447 - acc: 0.9833\n",
      "Epoch 96/100\n",
      "23856/23856 [==============================] - 1s 47us/sample - loss: 0.0448 - acc: 0.9829\n",
      "Epoch 97/100\n",
      "23856/23856 [==============================] - 1s 46us/sample - loss: 0.0445 - acc: 0.9833\n",
      "Epoch 98/100\n",
      "23856/23856 [==============================] - 1s 48us/sample - loss: 0.0445 - acc: 0.98321s - loss: \n",
      "Epoch 99/100\n",
      "23856/23856 [==============================] - 1s 42us/sample - loss: 0.0446 - acc: 0.9833\n",
      "Epoch 100/100\n",
      "23856/23856 [==============================] - 1s 43us/sample - loss: 0.0447 - acc: 0.9834\n"
     ]
    },
    {
     "data": {
      "text/plain": [
       "<tensorflow.python.keras.callbacks.History at 0x2679dca2e08>"
      ]
     },
     "execution_count": 131,
     "metadata": {},
     "output_type": "execute_result"
    }
   ],
   "source": [
    "ann.fit(X_train, y_train, batch_size = 100, epochs = 100)"
   ]
  },
  {
   "cell_type": "code",
   "execution_count": 132,
   "metadata": {},
   "outputs": [
    {
     "name": "stdout",
     "output_type": "stream",
     "text": [
      "[[ True]\n",
      " [ True]\n",
      " [ True]\n",
      " ...\n",
      " [ True]\n",
      " [ True]\n",
      " [ True]]\n"
     ]
    }
   ],
   "source": [
    "y_pred = ann.predict(X_test)\n",
    "y_pred = (y_pred > 0.9)\n",
    "# print(y_pred.reshape(len(y_pred) , 1))\n",
    "print(y_pred)\n"
   ]
  },
  {
   "cell_type": "code",
   "execution_count": 133,
   "metadata": {},
   "outputs": [],
   "source": [
    "y_pred = y_pred*1"
   ]
  },
  {
   "cell_type": "code",
   "execution_count": 134,
   "metadata": {},
   "outputs": [
    {
     "data": {
      "text/plain": [
       "array([[1],\n",
       "       [1],\n",
       "       [1],\n",
       "       ...,\n",
       "       [1],\n",
       "       [1],\n",
       "       [1]])"
      ]
     },
     "execution_count": 134,
     "metadata": {},
     "output_type": "execute_result"
    }
   ],
   "source": [
    "y_pred"
   ]
  },
  {
   "cell_type": "code",
   "execution_count": 135,
   "metadata": {},
   "outputs": [
    {
     "data": {
      "text/plain": [
       "(15903, 1)"
      ]
     },
     "execution_count": 135,
     "metadata": {},
     "output_type": "execute_result"
    }
   ],
   "source": [
    "y_pred.shape"
   ]
  },
  {
   "cell_type": "code",
   "execution_count": 136,
   "metadata": {},
   "outputs": [],
   "source": [
    "y_pred = y_pred.reshape(-1)"
   ]
  },
  {
   "cell_type": "code",
   "execution_count": 137,
   "metadata": {},
   "outputs": [],
   "source": [
    "my_submission = pd.DataFrame({'INCIDENT_ID' : x_test.iloc[: ,0].values , 'MULTIPLE_OFFENSE' : y_pred})\n",
    "my_submission.to_csv('Prediction.csv' , index=False)\n"
   ]
  },
  {
   "cell_type": "code",
   "execution_count": null,
   "metadata": {},
   "outputs": [],
   "source": []
  }
 ],
 "metadata": {
  "kernelspec": {
   "display_name": "Python 3",
   "language": "python",
   "name": "python3"
  },
  "language_info": {
   "codemirror_mode": {
    "name": "ipython",
    "version": 3
   },
   "file_extension": ".py",
   "mimetype": "text/x-python",
   "name": "python",
   "nbconvert_exporter": "python",
   "pygments_lexer": "ipython3",
   "version": "3.7.6"
  }
 },
 "nbformat": 4,
 "nbformat_minor": 4
}
